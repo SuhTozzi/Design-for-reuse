{
 "cells": [
  {
   "cell_type": "markdown",
   "metadata": {},
   "source": [
    "Import Libraries"
   ]
  },
  {
   "cell_type": "code",
   "execution_count": null,
   "metadata": {},
   "outputs": [],
   "source": [
    "import matplotlib\n",
    "import matplotlib.pyplot as plt\n",
    "import numpy as np\n",
    "\n",
    "import torch\n",
    "from dqn import main\n",
    "from envs import reuse as renv\n",
    "from utils import config_input\n",
    "from utils import rendering as R\n",
    "\n",
    "EPS_START = 0.9\n",
    "EPS_END = 0.05\n",
    "EPS_DECAY = 10000\n",
    "TAU = 0.0001\n",
    "DECAY_RATE = 0.99"
   ]
  },
  {
   "cell_type": "code",
   "execution_count": null,
   "metadata": {},
   "outputs": [],
   "source": [
    "is_ipython = 'inline' in matplotlib.get_backend()\n",
    "device = torch.device(\n",
    "     \"cuda\" if torch.cuda.is_available() else\n",
    "     \"mps\" if torch.backends.mps.is_available() else\n",
    "     \"cpu\"\n",
    ")\n",
    "print(\"device:\", device)"
   ]
  },
  {
   "cell_type": "markdown",
   "metadata": {},
   "source": [
    "Mock up"
   ]
  },
  {
   "cell_type": "code",
   "execution_count": null,
   "metadata": {},
   "outputs": [],
   "source": [
    "from dqn import main\n",
    "from envs import reuse_test as renv2\n",
    "\n",
    "outer_shape = {\"w\":40, \"h\":40}\n",
    "input_shape_n = [(1,12,12,7),\n",
    "                 (1,14,14,1),\n",
    "                 (1,13,20,1),\n",
    "                 (1,3,20,1),\n",
    "                 (1,7,14,1),\n",
    "                 (0,7,14,1),\n",
    "                 (1,5,14,1),\n",
    "                 (1,5,10,2)]\n",
    "\n",
    "# Hyperparameters\n",
    "EPISODE = 500\n",
    "BATCH_SIZE = 16\n",
    "LR = 3e-4\n",
    "MAX_STEPS = 50\n",
    "\n",
    "env = renv2.ReuseEnv(config=config_input.env_config(outer_shape, input_shape_n, MAX_STEPS))\n",
    "main.main(\n",
    "     env=env,\n",
    "     EPISODE = EPISODE, BATCH_SIZE = BATCH_SIZE,\n",
    "     EPS_START = EPS_START, EPS_END = EPS_END, EPS_DECAY = EPS_DECAY,\n",
    "     TAU = TAU, LR = LR, DECAY_RATE = DECAY_RATE,\n",
    "     MAX_STEPS = MAX_STEPS\n",
    ")\n",
    "\n",
    "from utils import analysis\n",
    "a = analysis.PlotAnalysis()\n",
    "state = R.render()  # Show the canvas\n",
    "state.viz(save=True)"
   ]
  },
  {
   "cell_type": "markdown",
   "metadata": {},
   "source": [
    "Scenario-based (Baseline)"
   ]
  },
  {
   "cell_type": "code",
   "execution_count": null,
   "metadata": {},
   "outputs": [],
   "source": [
    "from dqn import main\n",
    "from envs import reuse as renv\n",
    "\n",
    "# Shape - canvas, inventory\n",
    "outer_shape = {\"w\":30, \"h\":12}    # {\"w\":30, \"h\":12}   ## {\"w\":18, \"h\":12} {\"w\":36, \"h\":25}\n",
    "input_shape_n = [(1,2,2,2),\n",
    "                 (1,4,4,3),\n",
    "                 (0,4,4,10),\n",
    "                 (1,8,4,4),\n",
    "                 (0,8,4,10)]   # Baseline\n",
    "\n",
    "# Hyperparameters\n",
    "EPISODE = 500       # 500\n",
    "BATCH_SIZE = 16     # 16\n",
    "EPS_START = 0.9\n",
    "EPS_END = 0.05\n",
    "EPS_DECAY = 10000\n",
    "TAU = 0.0001\n",
    "LR = 3e-4      # 3e-4\n",
    "DECAY_RATE = 0.99\n",
    "MAX_STEPS = 100      #100\n",
    "\n",
    "env = renv.ReuseEnv(config=config_input.env_config(outer_shape, input_shape_n, MAX_STEPS))\n",
    "main.main(\n",
    "     env=env,\n",
    "     EPISODE = EPISODE, BATCH_SIZE = BATCH_SIZE,\n",
    "     EPS_START = EPS_START, EPS_END = EPS_END, EPS_DECAY = EPS_DECAY,\n",
    "     TAU = TAU, LR = LR, DECAY_RATE = DECAY_RATE,\n",
    "     MAX_STEPS = MAX_STEPS\n",
    ")\n",
    "\n",
    "from utils import analysis\n",
    "a = analysis.PlotAnalysis()\n",
    "a.plot_eps_actions(a.select_eps())\n",
    "\n",
    "state = R.render()  # Show the canvas\n",
    "state.viz(save=True)"
   ]
  },
  {
   "cell_type": "markdown",
   "metadata": {},
   "source": [
    "Analysis"
   ]
  },
  {
   "cell_type": "code",
   "execution_count": null,
   "metadata": {},
   "outputs": [],
   "source": [
    "import pygame\n",
    "from utils import rendering as R\n",
    "\n",
    "# Retrieve the data\n",
    "state = R.render()    # file_name=\"result_20250621-0149\" OR Default_latest file\n",
    "\n",
    "# Show the canvas\n",
    "state.viz(save=True,ep=0,step=50)   # save=(True/False), step=(step), ep=(ep)\n"
   ]
  },
  {
   "cell_type": "code",
   "execution_count": null,
   "metadata": {},
   "outputs": [],
   "source": [
    "from utils import analysis\n",
    "\n",
    "# Retrieve the data\n",
    "a = analysis.PlotAnalysis() # file_name=\"result_20250621-0149\" OR Default_latest file\n",
    "\n",
    "# Visualize the reward trend within the episode or across the episodes\n",
    "a.plot_1ep()      # ep=(ep) OR Default_ep\n",
    "a.plot_eps(a.select_eps(last_ep= False))    # ep= a.select_eps(last_ep=(ep)) <- select the appropriate episodes OR (ep)\n",
    "\n",
    "# Visualize the action trend across the episodes\n",
    "a.plot_eps_actions(a.select_eps())\n"
   ]
  }
 ],
 "metadata": {
  "kernelspec": {
   "display_name": "neural-net",
   "language": "python",
   "name": "python3"
  },
  "language_info": {
   "codemirror_mode": {
    "name": "ipython",
    "version": 3
   },
   "file_extension": ".py",
   "mimetype": "text/x-python",
   "name": "python",
   "nbconvert_exporter": "python",
   "pygments_lexer": "ipython3",
   "version": "3.12.2"
  }
 },
 "nbformat": 4,
 "nbformat_minor": 2
}
